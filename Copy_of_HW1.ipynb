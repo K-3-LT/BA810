{
  "cells": [
    {
      "cell_type": "markdown",
      "metadata": {
        "id": "view-in-github",
        "colab_type": "text"
      },
      "source": [
        "<a href=\"https://colab.research.google.com/github/K-3-LT/BA810/blob/main/Copy_of_HW1.ipynb\" target=\"_parent\"><img src=\"https://colab.research.google.com/assets/colab-badge.svg\" alt=\"Open In Colab\"/></a>"
      ]
    },
    {
      "cell_type": "markdown",
      "source": [
        "Google Colab Notebook link:"
      ],
      "metadata": {
        "id": "Zu00cOlv_QZA"
      }
    },
    {
      "cell_type": "markdown",
      "metadata": {
        "id": "UA0TvUeGFF6n"
      },
      "source": [
        "# Homework 1 (Total 100 points)"
      ]
    },
    {
      "cell_type": "markdown",
      "source": [
        "#Homework 1\n",
        "\n",
        "## Q1. Load and examine the `Auto.csv` dataset from the Blackboard course site. **(20 points total)**\n",
        "\n",
        "  1. Should you drop any variable from regression analysis and why? (5 points)\n",
        "  1. Which variables should be treated as numeric and which as categorical? Explain why. (5 points)\n",
        "\n",
        "FYI column definitions (from https://cran.r-project.org/web/packages/ISLR/ISLR.pdf): \n",
        "* mpg: miles per gallon (The outcome, or y, variable)\n",
        "* cylinders: Number of cylinders between 4 and 8\n",
        "* displacement: Engine displacement (cu. inches)\n",
        "* horsepower: Engine horsepower\n",
        "* weight: Vehicle weight (lbs.)\n",
        "* acceleration: Time to accelerate from 0 to 60 mph (sec.)\n",
        "* year: Model year (modulo 100)\n",
        "* origin: Origin of car (1. American, 2. European, 3. Japanese)\n",
        "* name: Vehicle name\n"
      ],
      "metadata": {
        "id": "pyjIb20UgBpg"
      }
    },
    {
      "cell_type": "code",
      "source": [
        "import pandas as pd\n",
        "import numpy as np\n",
        "import matplotlib.pyplot as plt\n",
        "import seaborn as sns\n",
        "from sklearn.preprocessing import scale\n",
        "from sklearn.linear_model import LinearRegression\n",
        "from sklearn.model_selection import cross_validate\n",
        "from sklearn.metrics import mean_squared_error, r2_score\n",
        "from google.colab import drive\n",
        "\n",
        "# Load datasets\n",
        "drive.mount('/content/drive')\n",
        "data_folder = '/content/drive/MyDrive/BA810/Data/'  # Mount my google drive\n",
        "auto = pd.read_csv(data_folder + 'Auto.csv')  # read auto.csv\n",
        "\n",
        "# Display data info\n",
        "auto.info()\n",
        "auto.head()"
      ],
      "metadata": {
        "id": "lGKspiXG9dHU"
      },
      "execution_count": null,
      "outputs": []
    },
    {
      "cell_type": "code",
      "source": [
        "# Transform data\n",
        "print(\"There are \", len(auto[auto['horsepower'] == '?']), \" rows where horsepower = \"\"?\"\"\")\n",
        "# delete missing data\n",
        "auto.drop(auto[auto['horsepower'] == '?'].index, inplace = True)\n",
        "auto[['horsepower']] = auto[['horsepower']].apply(pd.to_numeric)"
      ],
      "metadata": {
        "id": "DLglj793c_1v"
      },
      "execution_count": null,
      "outputs": []
    },
    {
      "cell_type": "code",
      "source": [
        "# There are 392 rows in this dataset after deleting \"?\" in the horsepower\n",
        "len(auto)\n",
        "# There are 301 unique name in this dataset after deleting question mark in the horsepower\n",
        "len(auto.name.unique())"
      ],
      "metadata": {
        "id": "4L06YthWgaJr"
      },
      "execution_count": null,
      "outputs": []
    },
    {
      "cell_type": "markdown",
      "source": [
        "## **Q1 Ans**\n",
        "1. **Should you drop any variable from regression analysis and why? (5 points)**\n",
        "\n",
        "\n",
        "> The `name` field needs to be removed. There is little association between `name` and other variables because there are only 392 rows in this dataset (after omitting the question mark in the horsepower, which is considered a missing value).\n",
        "\n",
        "\n"
      ],
      "metadata": {
        "id": "zzfrr_XgIabg"
      }
    },
    {
      "cell_type": "code",
      "source": [
        "# Delete name column\n",
        "del auto['name']"
      ],
      "metadata": {
        "id": "K0jB2qKDmmwS"
      },
      "execution_count": 35,
      "outputs": []
    },
    {
      "cell_type": "markdown",
      "source": [
        "2. **Which variables should be treated as numeric and which as categorical? Explain why. (5 points)**\n",
        "\n",
        "\n",
        ">  **Numeric:**\n",
        "  1. `mpg`: This is continuous data represent measurements. This is a numeric data represents how much gasolline the vehicle would spend.\n",
        "  2. `displacement`: This is continuous data. For engine displacement, its possiblt values cannot be counted and can only be described using intervals on the real number line.\n",
        "  3. `horsepower`: This is continuous data represent measurements. This is a numeric data represents engine horsepower.\n",
        "  4. `weight`: This is continuous data represent measurements. This is a numeric data represents how heavy the vehicle is.\n",
        "  5. `accelaration`: This is continuous data represent measurements.\n",
        "\n",
        "\n",
        "\n",
        "> **Categorical:**\n",
        "  1. `cylinders`: This is discrete date represent cars' characteristics.\n",
        "  1. `year`: This data does not have mathematical meaning, but it could be continuous if we treate it as a variable represents how long this vehicle has been built (e.g. current_year - built_year)\n",
        "  1. `origin`: This is a categorical data taking on numeric values (\"1\" indicating American, \"2 for European, etc.)\n",
        "\n"
      ],
      "metadata": {
        "id": "tWJQDDOomkMD"
      }
    },
    {
      "cell_type": "markdown",
      "source": [
        "## Q2. Scatter and explore. **(20 points total)**\n",
        "1. Plot all the pairwise scatter plots and histograms for the numeric features. (10 points)\n",
        "1. Discuss two interesting relationships that you notice. (10 points)"
      ],
      "metadata": {
        "id": "NulyfAVnkLTS"
      }
    },
    {
      "cell_type": "code",
      "source": [
        "sns.pairplot(auto, x_vars=['mpg', 'displacement', 'horsepower', 'weight', 'acceleration'], \n",
        "             y_vars=['mpg', 'displacement', 'horsepower', 'weight', 'acceleration'])"
      ],
      "metadata": {
        "id": "o9F1EDJt9ceZ"
      },
      "execution_count": null,
      "outputs": []
    },
    {
      "cell_type": "markdown",
      "source": [
        "## Q2. 2. Ans\n",
        "**Discuss two interesting relationships that you notice.**\n",
        "\n",
        "\n",
        "\n",
        "> 1. `Weight` and `displacement` have a strong positive linear connection. The data cluster more closely together in a linear pattern on the scatter plot of `weight` and `displacement`, indicating that they are significantly correlated with one another.\n",
        "1. Due to the dispersed plots and difficulty determining their relationship, it appears that `acceleration` and `mpg` have a weak correlation.\n",
        "\n"
      ],
      "metadata": {
        "id": "FYDWk12PvANE"
      }
    },
    {
      "cell_type": "markdown",
      "source": [
        "## Q3. Compute the correlation matrix among the numeric variables. Discuss one interesting correlation. (5+5=**10 points total**)"
      ],
      "metadata": {
        "id": "AHKO4BWfmIz1"
      }
    },
    {
      "cell_type": "code",
      "source": [
        "auto[['mpg', 'displacement', 'horsepower', 'weight', 'acceleration']].corr()"
      ],
      "metadata": {
        "id": "Lvcd73QA9d1l"
      },
      "execution_count": null,
      "outputs": []
    },
    {
      "cell_type": "markdown",
      "source": [
        "## Q3. Ans\n",
        "**Discuss one interesting correlation.**\n",
        "\n",
        "\n",
        "\n",
        "> The association between two variables is tighter as the correlation coefficient rises. The correlation r between `horsepower` and `displacement` is 0.897257, indicating a positive strong correlation between these two performance metrics.\n",
        "\n"
      ],
      "metadata": {
        "id": "YpLSPY8KBsaw"
      }
    },
    {
      "cell_type": "markdown",
      "source": [
        "## Q4. Use `statsmodels` to regress mpg on all other variables. Note you can tell `ols()` to treat a variable as categorical by enclosing the variable in `C()`. (10 points) **(15 points total)**\n",
        "  1. Interpret the significant effects. (5 points)\n",
        "  1. Which variables don't have a significant effect? Provide potential explanation for one surprising non-effect. (5 points)\n",
        "  1. Discuss the difference in results when you treat `year` as a categorical vs a numeric variable. (5 points)"
      ],
      "metadata": {
        "id": "HmEvxdMCnw-m"
      }
    },
    {
      "cell_type": "code",
      "source": [
        "# import statesmodels\n",
        "import statsmodels.api as sm\n",
        "import statsmodels.formula.api as smf\n",
        "\n",
        "est = smf.ols('mpg ~ C(cylinders) + displacement + horsepower + weight + acceleration + C(year) + C(origin)', auto).fit()\n",
        "print(est.summary())"
      ],
      "metadata": {
        "id": "X7rQcVXE9fyh"
      },
      "execution_count": null,
      "outputs": []
    },
    {
      "cell_type": "code",
      "source": [
        "# Treat year as numeric\n",
        "est = smf.ols('mpg ~ C(cylinders) + displacement + horsepower + weight + acceleration + year + C(origin)', auto).fit()\n",
        "print(est.summary())"
      ],
      "metadata": {
        "id": "YZOumTxMZYQc"
      },
      "execution_count": null,
      "outputs": []
    },
    {
      "cell_type": "markdown",
      "source": [
        "## Q4. Ans\n",
        "**1. Interpret the significant effects.**\n",
        "\n",
        "> p-values between 0 and 1 are frequently used to represent the significant effects. The evidence that you should reject the null hypothesis is stronger the smaller the p-value. \n",
        "\n",
        "**2. Which variables don't have a significant effect? Provide potential explanation for one surprising non-effect.**\n",
        "\n",
        "\n",
        "> `Years 71 to 76` have p-values more than 0.05 for year; `displacement` and `acceleration` have p-values greater than 0.05 for numeric variables. Weak evidence is presented against the null hypothesis by the p-value above. Consequently, these numerical and categorical variables are **not statistically significant**. However, there is one surprsing p-value of `displacement`, since the correlation bewteen `displacement` and `mpg` is -0.805 and the p-value is more than 0.05. This indicates that `displacement` is associated with other variables whose p-value is less than 0.05. The correlation matrix in Q3 also demonstrated that, in comparison to the correlation with `mpg`(-0.80), `displacement` has a stronger correlation with `horsepower` and `weight`, which are respectively 0.89 and 0.93.\n",
        "\n",
        "\n",
        "\n",
        "**3. Discuss the difference in results when you treat `year` as a categorical vs a numeric variable.**\n",
        "\n",
        "\n",
        "\n",
        "> Treating `year` as categorical or numeric data results in distinct meanings. When `year` is treated as categorical data, it refers to the classification of a vehicle; when `year` is treated as numeric data, it refers to the search for the relationship between the age of the cars, which is interval data. As a result, categories `year` close to 70 have a low coefficient and a higher p-value than categories `year` close to 80. Additionally, when comparing the summary that treats `year` as categorical data to the summary that treats `year` as numeric data, some variables' p-values have changed.\n",
        "\n"
      ],
      "metadata": {
        "id": "9qt72s7kSw7_"
      }
    },
    {
      "cell_type": "markdown",
      "source": [
        "## Q5. From the above regression model in Q4, include two way interactions between a numeric and categorical variable in three different regression models (three separate models in total). Do any of them appear significant? Discuss the results. **(15 points total)**\n"
      ],
      "metadata": {
        "id": "Hdst6gvGu7kM"
      }
    },
    {
      "cell_type": "code",
      "source": [
        "est1 = smf.ols('mpg ~ C(cylinders) + C(cylinders)*displacement', auto).fit()\n",
        "print(est1.summary())"
      ],
      "metadata": {
        "id": "lxbw_bdt9jzJ"
      },
      "execution_count": null,
      "outputs": []
    },
    {
      "cell_type": "markdown",
      "source": [
        "## Q5. Ans\n",
        "**Do any of them appear significant? Discuss the results.**\n",
        "\n",
        "\n",
        "> The p-values are extremely large when attempting to determine the relationship between `mpg` and `cylinders`, as well as the relationship between `mpg` and `cylinders * displacement`, which provides evidence to accept the null hypothesis. Consequently, none of them are statistically significant. In addition, the p-values of cylinders and displacement in original summary table is much less than the p-values in this one. This may be due to the fact that cylinders are considerably more closely related to displacement than to mpg.\n",
        "\n"
      ],
      "metadata": {
        "id": "EBnFgyXsSdx5"
      }
    },
    {
      "cell_type": "code",
      "source": [
        "est2 = smf.ols('mpg ~ C(origin)*horsepower', auto).fit()\n",
        "print(est2.summary())"
      ],
      "metadata": {
        "id": "5Ggf2Jj0LY28"
      },
      "execution_count": null,
      "outputs": []
    },
    {
      "cell_type": "markdown",
      "source": [
        "## Q5. Ans\n",
        "**Do any of them appear significant? Discuss the results.**\n",
        "\n",
        "\n",
        "\n",
        "> According to the result of ols model, all the p-values are 0.00. This indicates that the observed difference is unlikely to be due to chance. Thus, categorical variable `origin` and `horsepower` are statistically significant, and the interaction `C(origin)*horsepower` is also significant.\n",
        "\n"
      ],
      "metadata": {
        "id": "ffvyWEDwkOQ6"
      }
    },
    {
      "cell_type": "code",
      "source": [
        "est3 = smf.ols('mpg ~ C(origin) + C(origin)*weight + C(origin)*displacement', auto).fit()\n",
        "print(est3.summary())"
      ],
      "metadata": {
        "id": "A8lDH4VsLeJa"
      },
      "execution_count": null,
      "outputs": []
    },
    {
      "cell_type": "markdown",
      "source": [
        "## Q5. Ans\n",
        "**Do any of them appear significant? Discuss the results.**\n",
        "\n",
        "\n",
        "> According to the results of ols, all parameters associated with `origin = 2` have large p-values ( more than 0.05 ). It can be known that these data ( p-value > 0.05 ) do not appear significant, and other data are statistically significant. Thus, this situation may be caused by that only the classification, `origin = 2`, is not significant, resulting that all other parameters related to it have small p-values.\n",
        "\n"
      ],
      "metadata": {
        "id": "K6AkB2s0TE_d"
      }
    },
    {
      "cell_type": "markdown",
      "source": [
        "## Q6. Measure the in-sample and out of sample $R^2$ of the model estimated in Q4.1 using 20% data for testing. **(10 points total)**"
      ],
      "metadata": {
        "id": "0hqA2avuvNpT"
      }
    },
    {
      "cell_type": "code",
      "source": [
        "from sklearn.model_selection import train_test_split\n",
        "D_train, D_test = train_test_split(auto, test_size = .20, random_state=0)\n",
        "\n",
        "\n",
        "print('in-sample r-square: {:.2f}'.format(est.rsquared))\n",
        "predictions = est.predict(D_test) # automatically transforms the test data per the formula, i.e., calls the log and square etc.\n",
        "print('out-of-sample r-square: {:.2f}'.format(r2_score(D_test.mpg, predictions)))"
      ],
      "metadata": {
        "id": "_0s34Bpk9zul",
        "colab": {
          "base_uri": "https://localhost:8080/"
        },
        "outputId": "29d6ba22-71ef-4376-b528-de8bbde0e927"
      },
      "execution_count": 50,
      "outputs": [
        {
          "output_type": "stream",
          "name": "stdout",
          "text": [
            "in-sample r-square: 0.87\n",
            "out-of-sample r-square: 0.89\n"
          ]
        }
      ]
    },
    {
      "cell_type": "markdown",
      "source": [
        "## Q7. Collaboration statement **(10 points total)**\n",
        "Who did you discuss while answering this homework (whether to get or to provide help)? What questions/topics did you discuss? \n",
        "\n",
        "Note: No penalty for either side. While getting help in figuring out how to solve is OK, all answers should be produced by you. "
      ],
      "metadata": {
        "id": "dy0Phi_NNCNh"
      }
    },
    {
      "cell_type": "markdown",
      "source": [
        "Sample answer: I discussed with Hazel for this homework. I needed her help with gradescope and as a sounding board for the reasonableness of this homework."
      ],
      "metadata": {
        "id": "G_CW818uNdAx"
      }
    },
    {
      "cell_type": "markdown",
      "source": [
        "**Collaboration Statement:**\n",
        "\n",
        "\n",
        "> I discussed with Yiping for this homework. We are not sure about whether the column `name` should be dropped or not and the column `year` should be treated as numeric variable or categorical variable.\n",
        "\n",
        "\n",
        "\n",
        "\n",
        "\n"
      ],
      "metadata": {
        "id": "orYIqIIeAQIE"
      }
    }
  ],
  "metadata": {
    "kernelspec": {
      "display_name": "Python 3 (ipykernel)",
      "language": "python",
      "name": "python3"
    },
    "language_info": {
      "codemirror_mode": {
        "name": "ipython",
        "version": 3
      },
      "file_extension": ".py",
      "mimetype": "text/x-python",
      "name": "python",
      "nbconvert_exporter": "python",
      "pygments_lexer": "ipython3",
      "version": "3.8.11"
    },
    "colab": {
      "provenance": [],
      "collapsed_sections": [],
      "include_colab_link": true
    }
  },
  "nbformat": 4,
  "nbformat_minor": 0
}