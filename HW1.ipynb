{
  "cells": [
    {
      "cell_type": "markdown",
      "metadata": {
        "id": "view-in-github",
        "colab_type": "text"
      },
      "source": [
        "<a href=\"https://colab.research.google.com/github/K-3-LT/BA810/blob/main/HW1.ipynb\" target=\"_parent\"><img src=\"https://colab.research.google.com/assets/colab-badge.svg\" alt=\"Open In Colab\"/></a>"
      ]
    },
    {
      "cell_type": "markdown",
      "source": [
        "Google Colab Notebook link:"
      ],
      "metadata": {
        "id": "Zu00cOlv_QZA"
      }
    },
    {
      "cell_type": "markdown",
      "metadata": {
        "id": "UA0TvUeGFF6n"
      },
      "source": [
        "# Homework 1 (Total 100 points)"
      ]
    },
    {
      "cell_type": "markdown",
      "source": [
        "#Homework 1\n",
        "\n",
        "## Q1. Load and examine the `Auto.csv` dataset from the Blackboard course site. **(20 points total)**\n",
        "\n",
        "  1. Should you drop any variable from regression analysis and why? (5 points)\n",
        "  1. Which variables should be treated as numeric and which as categorical? Explain why. (5 points)\n",
        "\n",
        "FYI column definitions (from https://cran.r-project.org/web/packages/ISLR/ISLR.pdf): \n",
        "* mpg: miles per gallon (The outcome, or y, variable)\n",
        "* cylinders: Number of cylinders between 4 and 8\n",
        "* displacement: Engine displacement (cu. inches)\n",
        "* horsepower: Engine horsepower\n",
        "* weight: Vehicle weight (lbs.)\n",
        "* acceleration: Time to accelerate from 0 to 60 mph (sec.)\n",
        "* year: Model year (modulo 100)\n",
        "* origin: Origin of car (1. American, 2. European, 3. Japanese)\n",
        "* name: Vehicle name\n"
      ],
      "metadata": {
        "id": "pyjIb20UgBpg"
      }
    },
    {
      "cell_type": "code",
      "source": [
        "from google.colab import drive\n",
        "drive.mount('/content/drive')\n",
        "data_folder = '/content/drive/MyDrive/BA810/Data'"
      ],
      "metadata": {
        "id": "lGKspiXG9dHU",
        "outputId": "e5088b6e-471c-4dda-946c-a977f1fe3635",
        "colab": {
          "base_uri": "https://localhost:8080/"
        }
      },
      "execution_count": 1,
      "outputs": [
        {
          "output_type": "stream",
          "name": "stdout",
          "text": [
            "Mounted at /content/drive\n"
          ]
        }
      ]
    },
    {
      "cell_type": "markdown",
      "source": [
        "## Q2. Scatter and explore. **(20 points total)**\n",
        "1. Plot all the pairwise scatter plots and histograms for the numeric features. (10 points)\n",
        "1. Discuss two interesting relationships that you notice. (10 points)"
      ],
      "metadata": {
        "id": "NulyfAVnkLTS"
      }
    },
    {
      "cell_type": "code",
      "source": [],
      "metadata": {
        "id": "o9F1EDJt9ceZ"
      },
      "execution_count": null,
      "outputs": []
    },
    {
      "cell_type": "markdown",
      "source": [
        "## Q3. Compute the correlation matrix among the numeric variables. Discuss one interesting correlation. (5+5=**10 points total**)"
      ],
      "metadata": {
        "id": "AHKO4BWfmIz1"
      }
    },
    {
      "cell_type": "code",
      "source": [],
      "metadata": {
        "id": "Lvcd73QA9d1l"
      },
      "execution_count": null,
      "outputs": []
    },
    {
      "cell_type": "markdown",
      "source": [
        "## Q4. Use `statsmodels` to regress mpg on all other variables. Note you can tell `ols()` to treat a variable as categorical by enclosing the variable in `C()`. (10 points) **(15 points total)**\n",
        "  1. Interpret the significant effects. (5 points)\n",
        "  1. Which variables don't have a significant effect? Provide potential explanation for one surprising non-effect. (5 points)\n",
        "  1. Discuss the difference in results when you treat `year` as a categorical vs a numeric variable. (5 points)"
      ],
      "metadata": {
        "id": "HmEvxdMCnw-m"
      }
    },
    {
      "cell_type": "code",
      "source": [],
      "metadata": {
        "id": "X7rQcVXE9fyh"
      },
      "execution_count": null,
      "outputs": []
    },
    {
      "cell_type": "markdown",
      "source": [
        "## Q5. From the above regression model in Q4, include two way interactions between a numeric and categorical variable in three different regression models (three separate models in total). Do any of them appear significant? Discuss the results. **(15 points total)**\n"
      ],
      "metadata": {
        "id": "Hdst6gvGu7kM"
      }
    },
    {
      "cell_type": "code",
      "source": [],
      "metadata": {
        "id": "lxbw_bdt9jzJ"
      },
      "execution_count": null,
      "outputs": []
    },
    {
      "cell_type": "markdown",
      "source": [
        "## Q6. Measure the in-sample and out of sample $R^2$ of the model estimated in Q4.1 using 20% data for testing. **(10 points total)**"
      ],
      "metadata": {
        "id": "0hqA2avuvNpT"
      }
    },
    {
      "cell_type": "code",
      "source": [],
      "metadata": {
        "id": "_0s34Bpk9zul"
      },
      "execution_count": null,
      "outputs": []
    },
    {
      "cell_type": "markdown",
      "source": [
        "## Q7. Collaboration statement **(10 points total)**\n",
        "Who did you discuss while answering this homework (whether to get or to provide help)? What questions/topics did you discuss? \n",
        "\n",
        "Note: No penalty for either side. While getting help in figuring out how to solve is OK, all answers should be produced by you. "
      ],
      "metadata": {
        "id": "dy0Phi_NNCNh"
      }
    },
    {
      "cell_type": "markdown",
      "source": [
        "Sample answer: I discussed with Hazel for this homework. I needed her help with gradescope and as a sounding board for the reasonableness of this homework."
      ],
      "metadata": {
        "id": "G_CW818uNdAx"
      }
    }
  ],
  "metadata": {
    "kernelspec": {
      "display_name": "Python 3 (ipykernel)",
      "language": "python",
      "name": "python3"
    },
    "language_info": {
      "codemirror_mode": {
        "name": "ipython",
        "version": 3
      },
      "file_extension": ".py",
      "mimetype": "text/x-python",
      "name": "python",
      "nbconvert_exporter": "python",
      "pygments_lexer": "ipython3",
      "version": "3.8.11"
    },
    "colab": {
      "provenance": [],
      "collapsed_sections": [],
      "include_colab_link": true
    }
  },
  "nbformat": 4,
  "nbformat_minor": 0
}